{
 "cells": [
  {
   "cell_type": "markdown",
   "metadata": {},
   "source": [
    "# 机器学习纳米学位\n",
    "## 监督学习\n",
    "## 项目2: 携程机票航班延误预测"
   ]
  },
  {
   "cell_type": "markdown",
   "metadata": {},
   "source": [
    "欢迎来到机器学习工程师纳米学位的第二个项目！在此文件中，有些示例代码已经提供给你，但你还需要实现更多的功能让项目成功运行。除非有明确要求，你无须修改任何已给出的代码。以**'练习'**开始的标题表示接下来的代码部分中有你必须要实现的功能。每一部分都会有详细的指导，需要实现的部分也会在注释中以'TODO'标出。请仔细阅读所有的提示！\n",
    "\n",
    "除了实现代码外，你还必须回答一些与项目和你的实现有关的问题。每一个需要你回答的问题都会以**'问题 X'**为标题。请仔细阅读每个问题，并且在问题后的**'回答'**文字框中写出完整的答案。我们将根据你对问题的回答和撰写代码所实现的功能来对你提交的项目进行评分。\n",
    ">**提示：**Code 和 Markdown 区域可通过**Shift + Enter**快捷键运行。此外，Markdown可以通过双击进入编辑模式。"
   ]
  },
  {
   "cell_type": "markdown",
   "metadata": {},
   "source": [
    "## 开始\n",
    "\n",
    "我们知道，航班延误对于旅客、售卖机票的平台以及航空公司都是一个比较头疼的问题。造成航班延误的因素有很多，包括台风、雾霾、飞机故障、航空管制等等原因。在这个项目中，我们将探索在飞机起飞前2小时做航班延误预测这个实际问题，你将从实际问题出发，探索数据，抽取数据特征，构建模型并作出预测。\n",
    "\n",
    "这个项目的数据来自[航班动态起降数据集](https://www.kesci.com/home/dataset/59793a5a0d84640e9b2fedd3)，该数据集用2015年5月到2017年5月的机场情况作为训练集，用201年6月作为测试集。你可以通过报名该比赛获取数据集，另外，为了方便大家获取数据，我们也提供了一个[下载地址](https://drive.google.com/open?id=1tERyIkn1sss8jWv5RHFdslfxhzB-MzIs)，你下载后放置data文件夹中。\n",
    "\n",
    "**数据说明：**\n",
    "\n",
    "\n",
    "- ./data/2015年5月到2017年5月城市天气.csv\n",
    "- ./data/2015年5月到2017年5月航班动态数据.csv\n",
    "- ./data/2015年5月到2017年5月特情.xlsx\n",
    "- ./data/机场城市对应表.xlsx\n"
   ]
  },
  {
   "cell_type": "markdown",
   "metadata": {},
   "source": [
    " 运行下面区域的代码以载入一些此项目所需的Python库。如果成功返回提示语句，则说明载入成功。"
   ]
  },
  {
   "cell_type": "code",
   "execution_count": 1,
   "metadata": {},
   "outputs": [
    {
     "name": "stdout",
     "output_type": "stream",
     "text": [
      "你已经成功载入所有库！\n"
     ]
    }
   ],
   "source": [
    "import numpy as np\n",
    "import pandas as pd\n",
    "import matplotlib.pyplot as plt\n",
    "print('你已经成功载入所有库！')"
   ]
  },
  {
   "cell_type": "markdown",
   "metadata": {},
   "source": [
    "## 数据初探"
   ]
  },
  {
   "cell_type": "markdown",
   "metadata": {},
   "source": [
    " 我们先导入数据，然后观察头部数据。可以使用[read_csv](https://pandas.pydata.org/pandas-docs/stable/generated/pandas.read_csv.html), [read_excel](https://pandas.pydata.org/pandas-docs/stable/reference/api/pandas.read_excel.html) 分别加载对应格式的数据，然后使用[head](https://pandas.pydata.org/pandas-docs/stable/generated/pandas.DataFrame.head.html)观察前5条数据"
   ]
  },
  {
   "cell_type": "code",
   "execution_count": 2,
   "metadata": {},
   "outputs": [
    {
     "data": {
      "text/html": [
       "<div>\n",
       "<style scoped>\n",
       "    .dataframe tbody tr th:only-of-type {\n",
       "        vertical-align: middle;\n",
       "    }\n",
       "\n",
       "    .dataframe tbody tr th {\n",
       "        vertical-align: top;\n",
       "    }\n",
       "\n",
       "    .dataframe thead th {\n",
       "        text-align: right;\n",
       "    }\n",
       "</style>\n",
       "<table border=\"1\" class=\"dataframe\">\n",
       "  <thead>\n",
       "    <tr style=\"text-align: right;\">\n",
       "      <th></th>\n",
       "      <th>出发机场</th>\n",
       "      <th>到达机场</th>\n",
       "      <th>航班编号</th>\n",
       "      <th>计划起飞时间</th>\n",
       "      <th>计划到达时间</th>\n",
       "      <th>实际起飞时间</th>\n",
       "      <th>实际到达时间</th>\n",
       "      <th>飞机编号</th>\n",
       "      <th>航班是否取消</th>\n",
       "    </tr>\n",
       "  </thead>\n",
       "  <tbody>\n",
       "    <tr>\n",
       "      <td>0</td>\n",
       "      <td>HGH</td>\n",
       "      <td>DLC</td>\n",
       "      <td>CZ6328</td>\n",
       "      <td>1453809600</td>\n",
       "      <td>1453817100</td>\n",
       "      <td>1.453813e+09</td>\n",
       "      <td>1.453819e+09</td>\n",
       "      <td>1.0</td>\n",
       "      <td>正常</td>\n",
       "    </tr>\n",
       "    <tr>\n",
       "      <td>1</td>\n",
       "      <td>SHA</td>\n",
       "      <td>XMN</td>\n",
       "      <td>FM9261</td>\n",
       "      <td>1452760800</td>\n",
       "      <td>1452767100</td>\n",
       "      <td>1.452763e+09</td>\n",
       "      <td>1.452768e+09</td>\n",
       "      <td>2.0</td>\n",
       "      <td>正常</td>\n",
       "    </tr>\n",
       "    <tr>\n",
       "      <td>2</td>\n",
       "      <td>CAN</td>\n",
       "      <td>WNZ</td>\n",
       "      <td>ZH9597</td>\n",
       "      <td>1453800900</td>\n",
       "      <td>1453807500</td>\n",
       "      <td>1.453802e+09</td>\n",
       "      <td>1.453807e+09</td>\n",
       "      <td>3.0</td>\n",
       "      <td>正常</td>\n",
       "    </tr>\n",
       "    <tr>\n",
       "      <td>3</td>\n",
       "      <td>SHA</td>\n",
       "      <td>ZUH</td>\n",
       "      <td>9C8819</td>\n",
       "      <td>1452120600</td>\n",
       "      <td>1452131100</td>\n",
       "      <td>1.452121e+09</td>\n",
       "      <td>1.452130e+09</td>\n",
       "      <td>4.0</td>\n",
       "      <td>正常</td>\n",
       "    </tr>\n",
       "    <tr>\n",
       "      <td>4</td>\n",
       "      <td>SHE</td>\n",
       "      <td>TAO</td>\n",
       "      <td>TZ185</td>\n",
       "      <td>1452399000</td>\n",
       "      <td>1452406800</td>\n",
       "      <td>1.452400e+09</td>\n",
       "      <td>1.452404e+09</td>\n",
       "      <td>5.0</td>\n",
       "      <td>正常</td>\n",
       "    </tr>\n",
       "  </tbody>\n",
       "</table>\n",
       "</div>"
      ],
      "text/plain": [
       "  出发机场 到达机场    航班编号      计划起飞时间      计划到达时间        实际起飞时间        实际到达时间  飞机编号  \\\n",
       "0  HGH  DLC  CZ6328  1453809600  1453817100  1.453813e+09  1.453819e+09   1.0   \n",
       "1  SHA  XMN  FM9261  1452760800  1452767100  1.452763e+09  1.452768e+09   2.0   \n",
       "2  CAN  WNZ  ZH9597  1453800900  1453807500  1.453802e+09  1.453807e+09   3.0   \n",
       "3  SHA  ZUH  9C8819  1452120600  1452131100  1.452121e+09  1.452130e+09   4.0   \n",
       "4  SHE  TAO   TZ185  1452399000  1452406800  1.452400e+09  1.452404e+09   5.0   \n",
       "\n",
       "  航班是否取消  \n",
       "0     正常  \n",
       "1     正常  \n",
       "2     正常  \n",
       "3     正常  \n",
       "4     正常  "
      ]
     },
     "execution_count": 2,
     "metadata": {},
     "output_type": "execute_result"
    }
   ],
   "source": [
    "# TODO: 导入并观察航班数据，\n",
    "# 文件路径 './data/2015年5月到2017年5月航班动态数据.csv'\n",
    "# 注意使用字符编码 encoding=\"gb2312\"\n",
    "flight_data = \n",
    "flight_data.head()"
   ]
  },
  {
   "cell_type": "code",
   "execution_count": 3,
   "metadata": {},
   "outputs": [
    {
     "name": "stderr",
     "output_type": "stream",
     "text": [
      "C:\\Users\\libshi\\AppData\\Local\\Continuum\\miniconda3\\lib\\site-packages\\IPython\\core\\interactiveshell.py:3058: DtypeWarning: Columns (2,3) have mixed types. Specify dtype option on import or set low_memory=False.\n",
      "  interactivity=interactivity, compiler=compiler, result=result)\n"
     ]
    },
    {
     "data": {
      "text/html": [
       "<div>\n",
       "<style scoped>\n",
       "    .dataframe tbody tr th:only-of-type {\n",
       "        vertical-align: middle;\n",
       "    }\n",
       "\n",
       "    .dataframe tbody tr th {\n",
       "        vertical-align: top;\n",
       "    }\n",
       "\n",
       "    .dataframe thead th {\n",
       "        text-align: right;\n",
       "    }\n",
       "</style>\n",
       "<table border=\"1\" class=\"dataframe\">\n",
       "  <thead>\n",
       "    <tr style=\"text-align: right;\">\n",
       "      <th></th>\n",
       "      <th>城市</th>\n",
       "      <th>天气</th>\n",
       "      <th>最低气温</th>\n",
       "      <th>最高气温</th>\n",
       "      <th>日期</th>\n",
       "      <th>Unnamed: 5</th>\n",
       "    </tr>\n",
       "  </thead>\n",
       "  <tbody>\n",
       "    <tr>\n",
       "      <td>0</td>\n",
       "      <td>厦门</td>\n",
       "      <td>阴</td>\n",
       "      <td>21</td>\n",
       "      <td>26</td>\n",
       "      <td>2015-05-01</td>\n",
       "      <td>NaN</td>\n",
       "    </tr>\n",
       "    <tr>\n",
       "      <td>1</td>\n",
       "      <td>宁德</td>\n",
       "      <td>阵雨</td>\n",
       "      <td>19</td>\n",
       "      <td>25</td>\n",
       "      <td>2015-05-01</td>\n",
       "      <td>NaN</td>\n",
       "    </tr>\n",
       "    <tr>\n",
       "      <td>2</td>\n",
       "      <td>莆田</td>\n",
       "      <td>阵雨转阴</td>\n",
       "      <td>20</td>\n",
       "      <td>26</td>\n",
       "      <td>2015-05-01</td>\n",
       "      <td>NaN</td>\n",
       "    </tr>\n",
       "    <tr>\n",
       "      <td>3</td>\n",
       "      <td>泉州</td>\n",
       "      <td>阴</td>\n",
       "      <td>22</td>\n",
       "      <td>26</td>\n",
       "      <td>2015-05-01</td>\n",
       "      <td>NaN</td>\n",
       "    </tr>\n",
       "    <tr>\n",
       "      <td>4</td>\n",
       "      <td>漳州</td>\n",
       "      <td>阵雨转阴</td>\n",
       "      <td>22</td>\n",
       "      <td>28</td>\n",
       "      <td>2015-05-01</td>\n",
       "      <td>NaN</td>\n",
       "    </tr>\n",
       "  </tbody>\n",
       "</table>\n",
       "</div>"
      ],
      "text/plain": [
       "   城市    天气 最低气温 最高气温          日期  Unnamed: 5\n",
       "0  厦门     阴   21   26  2015-05-01         NaN\n",
       "1  宁德    阵雨   19   25  2015-05-01         NaN\n",
       "2  莆田  阵雨转阴   20   26  2015-05-01         NaN\n",
       "3  泉州     阴   22   26  2015-05-01         NaN\n",
       "4  漳州  阵雨转阴   22   28  2015-05-01         NaN"
      ]
     },
     "execution_count": 3,
     "metadata": {},
     "output_type": "execute_result"
    }
   ],
   "source": [
    "# 导入并观察天气数据\n",
    "# 文件路径 \"./data/2015年5月到2017年5月城市天气.csv\"\n",
    "weather = \n",
    "weather.head()"
   ]
  },
  {
   "cell_type": "markdown",
   "metadata": {},
   "source": [
    "观察数据，发现有一列没有用的空表格 “Unnamed: 5”，你需要使用 `del` 将其从 `weather` 数据中删除"
   ]
  },
  {
   "cell_type": "code",
   "execution_count": 4,
   "metadata": {},
   "outputs": [],
   "source": [
    "# TODO：删除 weather 中无用的列 【Unnamed: 5】\n"
   ]
  },
  {
   "cell_type": "code",
   "execution_count": 5,
   "metadata": {},
   "outputs": [
    {
     "data": {
      "text/html": [
       "<div>\n",
       "<style scoped>\n",
       "    .dataframe tbody tr th:only-of-type {\n",
       "        vertical-align: middle;\n",
       "    }\n",
       "\n",
       "    .dataframe tbody tr th {\n",
       "        vertical-align: top;\n",
       "    }\n",
       "\n",
       "    .dataframe thead th {\n",
       "        text-align: right;\n",
       "    }\n",
       "</style>\n",
       "<table border=\"1\" class=\"dataframe\">\n",
       "  <thead>\n",
       "    <tr style=\"text-align: right;\">\n",
       "      <th></th>\n",
       "      <th>机场编码</th>\n",
       "      <th>城市名称</th>\n",
       "    </tr>\n",
       "  </thead>\n",
       "  <tbody>\n",
       "    <tr>\n",
       "      <td>0</td>\n",
       "      <td>AHJ</td>\n",
       "      <td>阿坝</td>\n",
       "    </tr>\n",
       "    <tr>\n",
       "      <td>1</td>\n",
       "      <td>AYN</td>\n",
       "      <td>安阳</td>\n",
       "    </tr>\n",
       "    <tr>\n",
       "      <td>2</td>\n",
       "      <td>HSC</td>\n",
       "      <td>韶关</td>\n",
       "    </tr>\n",
       "    <tr>\n",
       "      <td>3</td>\n",
       "      <td>HCJ</td>\n",
       "      <td>河池</td>\n",
       "    </tr>\n",
       "    <tr>\n",
       "      <td>4</td>\n",
       "      <td>XNT</td>\n",
       "      <td>邢台</td>\n",
       "    </tr>\n",
       "  </tbody>\n",
       "</table>\n",
       "</div>"
      ],
      "text/plain": [
       "  机场编码 城市名称\n",
       "0  AHJ   阿坝\n",
       "1  AYN   安阳\n",
       "2  HSC   韶关\n",
       "3  HCJ   河池\n",
       "4  XNT   邢台"
      ]
     },
     "execution_count": 5,
     "metadata": {},
     "output_type": "execute_result"
    }
   ],
   "source": [
    "# 导入并观察城市与机场对应数据\n",
    "# 文件路径 \"./data/机场城市对应表.xlsx\"\n",
    "airport_city = \n",
    "airport_city.head()"
   ]
  },
  {
   "cell_type": "code",
   "execution_count": 6,
   "metadata": {},
   "outputs": [
    {
     "data": {
      "text/html": [
       "<div>\n",
       "<style scoped>\n",
       "    .dataframe tbody tr th:only-of-type {\n",
       "        vertical-align: middle;\n",
       "    }\n",
       "\n",
       "    .dataframe tbody tr th {\n",
       "        vertical-align: top;\n",
       "    }\n",
       "\n",
       "    .dataframe thead th {\n",
       "        text-align: right;\n",
       "    }\n",
       "</style>\n",
       "<table border=\"1\" class=\"dataframe\">\n",
       "  <thead>\n",
       "    <tr style=\"text-align: right;\">\n",
       "      <th></th>\n",
       "      <th>特情机场</th>\n",
       "      <th>收集时间</th>\n",
       "      <th>开始时间</th>\n",
       "      <th>结束时间</th>\n",
       "      <th>特情内容</th>\n",
       "    </tr>\n",
       "  </thead>\n",
       "  <tbody>\n",
       "    <tr>\n",
       "      <td>0</td>\n",
       "      <td>csx</td>\n",
       "      <td>2015-04-30 19:52:45Z</td>\n",
       "      <td>2015-05-01 12:00:00Z</td>\n",
       "      <td>2015-05-01 16:00:00Z</td>\n",
       "      <td>长沙机场航班延误黄色预警提示：预计明日（5月1日）12:00-16:00长沙黄花机场受雷雨天...</td>\n",
       "    </tr>\n",
       "    <tr>\n",
       "      <td>1</td>\n",
       "      <td>wuh</td>\n",
       "      <td>2015-05-01 08:13:39Z</td>\n",
       "      <td>2015-05-01 08:00:00Z</td>\n",
       "      <td>2015-05-01 12:00:00Z</td>\n",
       "      <td>目前，8时-12时雷雨，期间进出港航班可能受到影响。</td>\n",
       "    </tr>\n",
       "    <tr>\n",
       "      <td>2</td>\n",
       "      <td>khn</td>\n",
       "      <td>2015-05-01 08:14:18Z</td>\n",
       "      <td>2015-05-01 14:00:00Z</td>\n",
       "      <td>2015-05-01 17:00:00Z</td>\n",
       "      <td>预计，14时-17时小雷雨，期间进出港航班可能受到影响。</td>\n",
       "    </tr>\n",
       "    <tr>\n",
       "      <td>3</td>\n",
       "      <td>swa</td>\n",
       "      <td>2015-05-01 08:24:28Z</td>\n",
       "      <td>2015-05-01 13:00:00Z</td>\n",
       "      <td>2015-05-01 17:00:00Z</td>\n",
       "      <td>预计，13时-17时雷雨，期间进出港航班可能受到影响。</td>\n",
       "    </tr>\n",
       "    <tr>\n",
       "      <td>4</td>\n",
       "      <td>zha</td>\n",
       "      <td>2015-05-01 08:24:56Z</td>\n",
       "      <td>2015-05-01 13:00:00Z</td>\n",
       "      <td>2015-05-01 17:00:00Z</td>\n",
       "      <td>预计，13时-17时雷雨，期间进出港航班可能受到影响。</td>\n",
       "    </tr>\n",
       "  </tbody>\n",
       "</table>\n",
       "</div>"
      ],
      "text/plain": [
       "  特情机场                  收集时间                  开始时间                  结束时间  \\\n",
       "0  csx  2015-04-30 19:52:45Z  2015-05-01 12:00:00Z  2015-05-01 16:00:00Z   \n",
       "1  wuh  2015-05-01 08:13:39Z  2015-05-01 08:00:00Z  2015-05-01 12:00:00Z   \n",
       "2  khn  2015-05-01 08:14:18Z  2015-05-01 14:00:00Z  2015-05-01 17:00:00Z   \n",
       "3  swa  2015-05-01 08:24:28Z  2015-05-01 13:00:00Z  2015-05-01 17:00:00Z   \n",
       "4  zha  2015-05-01 08:24:56Z  2015-05-01 13:00:00Z  2015-05-01 17:00:00Z   \n",
       "\n",
       "                                                特情内容  \n",
       "0  长沙机场航班延误黄色预警提示：预计明日（5月1日）12:00-16:00长沙黄花机场受雷雨天...  \n",
       "1                         目前，8时-12时雷雨，期间进出港航班可能受到影响。  \n",
       "2                       预计，14时-17时小雷雨，期间进出港航班可能受到影响。  \n",
       "3                        预计，13时-17时雷雨，期间进出港航班可能受到影响。  \n",
       "4                        预计，13时-17时雷雨，期间进出港航班可能受到影响。  "
      ]
     },
     "execution_count": 6,
     "metadata": {},
     "output_type": "execute_result"
    }
   ],
   "source": [
    "# 特情数据导入\n",
    "# 文件路径 \"./data/2015年5月到2017年5月特情.xlsx\"\n",
    "spcial =\n",
    "spcial.head()"
   ]
  },
  {
   "cell_type": "markdown",
   "metadata": {},
   "source": [
    "### 整理targets值\n",
    "\n",
    "根据以上对数据的初步观察，我们发现，这样的实际问题的数据是非常不规整的。数据的targets标签并没有显示的给出，而是需要自己整理。在这一小节，我们根据飞行数据 `flight_data` 整理出我们需要的targets。\n",
    "\n",
    "我们首先定义延误时间：实际起飞时间与计划起飞时间的差；然后，我们以延误时长是否超过3小时来定义targets。同时观察到“航班是否取消”这一列数据，针对数据中的“取消”的航班，我们直接可以将其延误时间设置成12小时。\n",
    "\n",
    "**建议**：用[numpy.where](https://numpy.org/devdocs/reference/generated/numpy.where.html?highlight=where#numpy.where)按条件选择延误时间是否超过三小时，如果超过三小时则延误目标值取1，否则延误目标值取0；另外也用[numpy.where](https://numpy.org/devdocs/reference/generated/numpy.where.html?highlight=where#numpy.where)按条件选择`flight_data['航班是否取消']`是否为 `取消`,如果是取消则直接可以将其延误时间设置成12小时。"
   ]
  },
  {
   "cell_type": "code",
   "execution_count": 10,
   "metadata": {},
   "outputs": [
    {
     "data": {
      "text/html": [
       "<div>\n",
       "<style scoped>\n",
       "    .dataframe tbody tr th:only-of-type {\n",
       "        vertical-align: middle;\n",
       "    }\n",
       "\n",
       "    .dataframe tbody tr th {\n",
       "        vertical-align: top;\n",
       "    }\n",
       "\n",
       "    .dataframe thead th {\n",
       "        text-align: right;\n",
       "    }\n",
       "</style>\n",
       "<table border=\"1\" class=\"dataframe\">\n",
       "  <thead>\n",
       "    <tr style=\"text-align: right;\">\n",
       "      <th></th>\n",
       "      <th>出发机场</th>\n",
       "      <th>到达机场</th>\n",
       "      <th>航班编号</th>\n",
       "      <th>计划起飞时间</th>\n",
       "      <th>计划到达时间</th>\n",
       "      <th>实际起飞时间</th>\n",
       "      <th>实际到达时间</th>\n",
       "      <th>飞机编号</th>\n",
       "      <th>航班是否取消</th>\n",
       "      <th>起飞延误时间</th>\n",
       "      <th>飞机延误目标</th>\n",
       "    </tr>\n",
       "  </thead>\n",
       "  <tbody>\n",
       "    <tr>\n",
       "      <td>0</td>\n",
       "      <td>HGH</td>\n",
       "      <td>DLC</td>\n",
       "      <td>CZ6328</td>\n",
       "      <td>1453809600</td>\n",
       "      <td>1453817100</td>\n",
       "      <td>1.453813e+09</td>\n",
       "      <td>1.453819e+09</td>\n",
       "      <td>1.0</td>\n",
       "      <td>正常</td>\n",
       "      <td>0.966667</td>\n",
       "      <td>0</td>\n",
       "    </tr>\n",
       "    <tr>\n",
       "      <td>1</td>\n",
       "      <td>SHA</td>\n",
       "      <td>XMN</td>\n",
       "      <td>FM9261</td>\n",
       "      <td>1452760800</td>\n",
       "      <td>1452767100</td>\n",
       "      <td>1.452763e+09</td>\n",
       "      <td>1.452768e+09</td>\n",
       "      <td>2.0</td>\n",
       "      <td>正常</td>\n",
       "      <td>0.500000</td>\n",
       "      <td>0</td>\n",
       "    </tr>\n",
       "    <tr>\n",
       "      <td>2</td>\n",
       "      <td>CAN</td>\n",
       "      <td>WNZ</td>\n",
       "      <td>ZH9597</td>\n",
       "      <td>1453800900</td>\n",
       "      <td>1453807500</td>\n",
       "      <td>1.453802e+09</td>\n",
       "      <td>1.453807e+09</td>\n",
       "      <td>3.0</td>\n",
       "      <td>正常</td>\n",
       "      <td>0.400000</td>\n",
       "      <td>0</td>\n",
       "    </tr>\n",
       "    <tr>\n",
       "      <td>3</td>\n",
       "      <td>SHA</td>\n",
       "      <td>ZUH</td>\n",
       "      <td>9C8819</td>\n",
       "      <td>1452120600</td>\n",
       "      <td>1452131100</td>\n",
       "      <td>1.452121e+09</td>\n",
       "      <td>1.452130e+09</td>\n",
       "      <td>4.0</td>\n",
       "      <td>正常</td>\n",
       "      <td>0.233333</td>\n",
       "      <td>0</td>\n",
       "    </tr>\n",
       "    <tr>\n",
       "      <td>4</td>\n",
       "      <td>SHE</td>\n",
       "      <td>TAO</td>\n",
       "      <td>TZ185</td>\n",
       "      <td>1452399000</td>\n",
       "      <td>1452406800</td>\n",
       "      <td>1.452400e+09</td>\n",
       "      <td>1.452404e+09</td>\n",
       "      <td>5.0</td>\n",
       "      <td>正常</td>\n",
       "      <td>0.250000</td>\n",
       "      <td>0</td>\n",
       "    </tr>\n",
       "  </tbody>\n",
       "</table>\n",
       "</div>"
      ],
      "text/plain": [
       "  出发机场 到达机场    航班编号      计划起飞时间      计划到达时间        实际起飞时间        实际到达时间  飞机编号  \\\n",
       "0  HGH  DLC  CZ6328  1453809600  1453817100  1.453813e+09  1.453819e+09   1.0   \n",
       "1  SHA  XMN  FM9261  1452760800  1452767100  1.452763e+09  1.452768e+09   2.0   \n",
       "2  CAN  WNZ  ZH9597  1453800900  1453807500  1.453802e+09  1.453807e+09   3.0   \n",
       "3  SHA  ZUH  9C8819  1452120600  1452131100  1.452121e+09  1.452130e+09   4.0   \n",
       "4  SHE  TAO   TZ185  1452399000  1452406800  1.452400e+09  1.452404e+09   5.0   \n",
       "\n",
       "  航班是否取消    起飞延误时间  飞机延误目标  \n",
       "0     正常  0.966667       0  \n",
       "1     正常  0.500000       0  \n",
       "2     正常  0.400000       0  \n",
       "3     正常  0.233333       0  \n",
       "4     正常  0.250000       0  "
      ]
     },
     "execution_count": 10,
     "metadata": {},
     "output_type": "execute_result"
    }
   ],
   "source": [
    "# TODO：计算 起飞延误时间，以小时为单位，注意将单位秒转换为单位小时\n",
    "flight_data['起飞延误时间'] = \n",
    "\n",
    "\n",
    "# TODO：`light_data['航班是否取消']是否为 “取消”,如果是取消则直接可以将其延误时间设置成12小时\n",
    "flight_data[\"飞机延误目标\"] = \n",
    "\n",
    "flight_data.head()"
   ]
  },
  {
   "cell_type": "markdown",
   "metadata": {},
   "source": [
    "### 整理简单features\n",
    "\n",
    "在整理完我们的目标值之后，我们可以开始进行特征工程。根据以上的几个文件，我们可以得到很多特征，在这里，我们先抽取一个简单的特征，学习一遍在处理实际数据时的特征工程流程。\n",
    "\n",
    "我们所抽取的特征是 `weather`中的“天气”数据。但我们发现 `weather` 中的数据并不是直接可用的，而是需要我们将该天气数据按照日期和城市对齐至飞行数据`flight_data`中。具体来说，我们参考下面的图片![merge_data](./figure/merge_feature.png)\n",
    "\n",
    "- 我们先要将天气 `weather`中的“城市”一列的数据，通过机场城市`airport_city`数据中的“城市名称”和“城市编码”，将 `weather`中的“城市”转化为“城市编码”，这样才能跟`flight_data`中的机场编码对应上。\n",
    "- 然后我们要将 `weather`中的“日期”一列的数据对齐至`flight_data`中“计划起飞时间”上。但是，我们发现“计划起飞时间”是以秒为单位的浮点格式数据，因此我们还需要将“计划起飞时间”转换成和`weather`中的“日期”一样的时间格式。\n",
    "\n",
    "接下来就是按以上的步骤进行操作"
   ]
  },
  {
   "cell_type": "markdown",
   "metadata": {},
   "source": [
    "首先，利用 [merge](https://pandas.pydata.org/pandas-docs/stable/reference/api/pandas.DataFrame.merge.html) ，按`airport_city`中的城市名称和城市编码，将 `weather`中的城市名称转化为城市编码。"
   ]
  },
  {
   "cell_type": "code",
   "execution_count": 12,
   "metadata": {},
   "outputs": [
    {
     "data": {
      "text/html": [
       "<div>\n",
       "<style scoped>\n",
       "    .dataframe tbody tr th:only-of-type {\n",
       "        vertical-align: middle;\n",
       "    }\n",
       "\n",
       "    .dataframe tbody tr th {\n",
       "        vertical-align: top;\n",
       "    }\n",
       "\n",
       "    .dataframe thead th {\n",
       "        text-align: right;\n",
       "    }\n",
       "</style>\n",
       "<table border=\"1\" class=\"dataframe\">\n",
       "  <thead>\n",
       "    <tr style=\"text-align: right;\">\n",
       "      <th></th>\n",
       "      <th>城市</th>\n",
       "      <th>天气</th>\n",
       "      <th>最低气温</th>\n",
       "      <th>最高气温</th>\n",
       "      <th>日期</th>\n",
       "      <th>机场编码</th>\n",
       "      <th>城市名称</th>\n",
       "    </tr>\n",
       "  </thead>\n",
       "  <tbody>\n",
       "    <tr>\n",
       "      <td>0</td>\n",
       "      <td>厦门</td>\n",
       "      <td>阴</td>\n",
       "      <td>21</td>\n",
       "      <td>26</td>\n",
       "      <td>2015-05-01</td>\n",
       "      <td>XMN</td>\n",
       "      <td>厦门</td>\n",
       "    </tr>\n",
       "    <tr>\n",
       "      <td>5</td>\n",
       "      <td>龙岩</td>\n",
       "      <td>小雨转阴</td>\n",
       "      <td>20</td>\n",
       "      <td>26</td>\n",
       "      <td>2015-05-01</td>\n",
       "      <td>LCX</td>\n",
       "      <td>龙岩</td>\n",
       "    </tr>\n",
       "    <tr>\n",
       "      <td>6</td>\n",
       "      <td>三明</td>\n",
       "      <td>小雨</td>\n",
       "      <td>20</td>\n",
       "      <td>25</td>\n",
       "      <td>2015-05-01</td>\n",
       "      <td>SQJ</td>\n",
       "      <td>三明</td>\n",
       "    </tr>\n",
       "    <tr>\n",
       "      <td>8</td>\n",
       "      <td>南昌</td>\n",
       "      <td>小雨转中雨</td>\n",
       "      <td>22</td>\n",
       "      <td>27</td>\n",
       "      <td>2015-05-01</td>\n",
       "      <td>KHN</td>\n",
       "      <td>南昌</td>\n",
       "    </tr>\n",
       "    <tr>\n",
       "      <td>9</td>\n",
       "      <td>九江</td>\n",
       "      <td>雷阵雨转大雨</td>\n",
       "      <td>19</td>\n",
       "      <td>28</td>\n",
       "      <td>2015-05-01</td>\n",
       "      <td>JIU</td>\n",
       "      <td>九江</td>\n",
       "    </tr>\n",
       "  </tbody>\n",
       "</table>\n",
       "</div>"
      ],
      "text/plain": [
       "   城市      天气 最低气温 最高气温          日期 机场编码 城市名称\n",
       "0  厦门       阴   21   26  2015-05-01  XMN   厦门\n",
       "5  龙岩    小雨转阴   20   26  2015-05-01  LCX   龙岩\n",
       "6  三明      小雨   20   25  2015-05-01  SQJ   三明\n",
       "8  南昌   小雨转中雨   22   27  2015-05-01  KHN   南昌\n",
       "9  九江  雷阵雨转大雨   19   28  2015-05-01  JIU   九江"
      ]
     },
     "execution_count": 12,
     "metadata": {},
     "output_type": "execute_result"
    }
   ],
   "source": [
    "# TODO: 将机场编码对应到天气数据上面，根据城市名，注意 weather 数据是【城市】，而airport_city 是【城市名称】\n",
    "airport_weather = \n",
    "\n",
    "# # 去除缺失值和重复的机场天气信息\n",
    "airport_weather = airport_weather.dropna()\n",
    "airport_weather = airport_weather.drop_duplicates(['日期','机场编码'])\n",
    "airport_weather.head()"
   ]
  },
  {
   "cell_type": "markdown",
   "metadata": {},
   "source": [
    "我们发现，数据`airport_weather`中的“日期”格式和`flight_data`中的“计划起飞时间”格式是不一致的，为了能够将机场天气数据`airport_weather`按照“日期”归并至飞行数据`flight_data`中，我们首先需要将`flight_data`中的“计划起飞时间”格式转化成年月日统一格式。可以先用[to_datetime](https://pandas.pydata.org/pandas-docs/stable/reference/api/pandas.to_datetime.html)将浮点类型的数据转化为日期格式，然后再将日期格式的数据转化为 统一的 年月日格式。"
   ]
  },
  {
   "cell_type": "code",
   "execution_count": 13,
   "metadata": {},
   "outputs": [
    {
     "data": {
      "text/html": [
       "<div>\n",
       "<style scoped>\n",
       "    .dataframe tbody tr th:only-of-type {\n",
       "        vertical-align: middle;\n",
       "    }\n",
       "\n",
       "    .dataframe tbody tr th {\n",
       "        vertical-align: top;\n",
       "    }\n",
       "\n",
       "    .dataframe thead th {\n",
       "        text-align: right;\n",
       "    }\n",
       "</style>\n",
       "<table border=\"1\" class=\"dataframe\">\n",
       "  <thead>\n",
       "    <tr style=\"text-align: right;\">\n",
       "      <th></th>\n",
       "      <th>出发机场</th>\n",
       "      <th>到达机场</th>\n",
       "      <th>航班编号</th>\n",
       "      <th>计划起飞时间</th>\n",
       "      <th>计划到达时间</th>\n",
       "      <th>实际起飞时间</th>\n",
       "      <th>实际到达时间</th>\n",
       "      <th>飞机编号</th>\n",
       "      <th>航班是否取消</th>\n",
       "      <th>起飞延误时间</th>\n",
       "      <th>飞机延误目标</th>\n",
       "      <th>计划起飞日期tmp</th>\n",
       "      <th>计划起飞日期</th>\n",
       "    </tr>\n",
       "  </thead>\n",
       "  <tbody>\n",
       "    <tr>\n",
       "      <td>0</td>\n",
       "      <td>HGH</td>\n",
       "      <td>DLC</td>\n",
       "      <td>CZ6328</td>\n",
       "      <td>1453809600</td>\n",
       "      <td>1453817100</td>\n",
       "      <td>1.453813e+09</td>\n",
       "      <td>1.453819e+09</td>\n",
       "      <td>1.0</td>\n",
       "      <td>正常</td>\n",
       "      <td>0.966667</td>\n",
       "      <td>0</td>\n",
       "      <td>2016-01-26 12:00:00+00:00</td>\n",
       "      <td>2016-01-26</td>\n",
       "    </tr>\n",
       "    <tr>\n",
       "      <td>1</td>\n",
       "      <td>SHA</td>\n",
       "      <td>XMN</td>\n",
       "      <td>FM9261</td>\n",
       "      <td>1452760800</td>\n",
       "      <td>1452767100</td>\n",
       "      <td>1.452763e+09</td>\n",
       "      <td>1.452768e+09</td>\n",
       "      <td>2.0</td>\n",
       "      <td>正常</td>\n",
       "      <td>0.500000</td>\n",
       "      <td>0</td>\n",
       "      <td>2016-01-14 08:40:00+00:00</td>\n",
       "      <td>2016-01-14</td>\n",
       "    </tr>\n",
       "    <tr>\n",
       "      <td>2</td>\n",
       "      <td>CAN</td>\n",
       "      <td>WNZ</td>\n",
       "      <td>ZH9597</td>\n",
       "      <td>1453800900</td>\n",
       "      <td>1453807500</td>\n",
       "      <td>1.453802e+09</td>\n",
       "      <td>1.453807e+09</td>\n",
       "      <td>3.0</td>\n",
       "      <td>正常</td>\n",
       "      <td>0.400000</td>\n",
       "      <td>0</td>\n",
       "      <td>2016-01-26 09:35:00+00:00</td>\n",
       "      <td>2016-01-26</td>\n",
       "    </tr>\n",
       "    <tr>\n",
       "      <td>3</td>\n",
       "      <td>SHA</td>\n",
       "      <td>ZUH</td>\n",
       "      <td>9C8819</td>\n",
       "      <td>1452120600</td>\n",
       "      <td>1452131100</td>\n",
       "      <td>1.452121e+09</td>\n",
       "      <td>1.452130e+09</td>\n",
       "      <td>4.0</td>\n",
       "      <td>正常</td>\n",
       "      <td>0.233333</td>\n",
       "      <td>0</td>\n",
       "      <td>2016-01-06 22:50:00+00:00</td>\n",
       "      <td>2016-01-06</td>\n",
       "    </tr>\n",
       "    <tr>\n",
       "      <td>4</td>\n",
       "      <td>SHE</td>\n",
       "      <td>TAO</td>\n",
       "      <td>TZ185</td>\n",
       "      <td>1452399000</td>\n",
       "      <td>1452406800</td>\n",
       "      <td>1.452400e+09</td>\n",
       "      <td>1.452404e+09</td>\n",
       "      <td>5.0</td>\n",
       "      <td>正常</td>\n",
       "      <td>0.250000</td>\n",
       "      <td>0</td>\n",
       "      <td>2016-01-10 04:10:00+00:00</td>\n",
       "      <td>2016-01-10</td>\n",
       "    </tr>\n",
       "  </tbody>\n",
       "</table>\n",
       "</div>"
      ],
      "text/plain": [
       "  出发机场 到达机场    航班编号      计划起飞时间      计划到达时间        实际起飞时间        实际到达时间  飞机编号  \\\n",
       "0  HGH  DLC  CZ6328  1453809600  1453817100  1.453813e+09  1.453819e+09   1.0   \n",
       "1  SHA  XMN  FM9261  1452760800  1452767100  1.452763e+09  1.452768e+09   2.0   \n",
       "2  CAN  WNZ  ZH9597  1453800900  1453807500  1.453802e+09  1.453807e+09   3.0   \n",
       "3  SHA  ZUH  9C8819  1452120600  1452131100  1.452121e+09  1.452130e+09   4.0   \n",
       "4  SHE  TAO   TZ185  1452399000  1452406800  1.452400e+09  1.452404e+09   5.0   \n",
       "\n",
       "  航班是否取消    起飞延误时间  飞机延误目标                 计划起飞日期tmp      计划起飞日期  \n",
       "0     正常  0.966667       0 2016-01-26 12:00:00+00:00  2016-01-26  \n",
       "1     正常  0.500000       0 2016-01-14 08:40:00+00:00  2016-01-14  \n",
       "2     正常  0.400000       0 2016-01-26 09:35:00+00:00  2016-01-26  \n",
       "3     正常  0.233333       0 2016-01-06 22:50:00+00:00  2016-01-06  \n",
       "4     正常  0.250000       0 2016-01-10 04:10:00+00:00  2016-01-10  "
      ]
     },
     "execution_count": 13,
     "metadata": {},
     "output_type": "execute_result"
    }
   ],
   "source": [
    "# TODO：利用 to_datetime  浮点类型的数据转化为时间数据，单位为秒，utc时间为True\n",
    "flight_data['计划起飞日期tmp'] = \n",
    "\n",
    "# 再将日期格式的数据转化为 统一的 年月日格式。\n",
    "flight_data['计划起飞日期'] = flight_data['计划起飞日期tmp'].apply(lambda x:x.strftime('%Y-%m-%d') if not(pd.isnull(x)) else None)\n",
    "flight_data.head()"
   ]
  },
  {
   "cell_type": "markdown",
   "metadata": {},
   "source": [
    "然后，再次利用[merge](https://pandas.pydata.org/pandas-docs/stable/reference/api/pandas.DataFrame.merge.html)，根据机场名称和日期信息，将机场天气`weather`数据对应到飞行数据 `flight_data` 中。注意，`flight_data`中是“出发机场”和“计划起飞日期”,而 `airport_weather`中对应的是“机场编码”和“日期”。"
   ]
  },
  {
   "cell_type": "code",
   "execution_count": 14,
   "metadata": {},
   "outputs": [
    {
     "data": {
      "text/html": [
       "<div>\n",
       "<style scoped>\n",
       "    .dataframe tbody tr th:only-of-type {\n",
       "        vertical-align: middle;\n",
       "    }\n",
       "\n",
       "    .dataframe tbody tr th {\n",
       "        vertical-align: top;\n",
       "    }\n",
       "\n",
       "    .dataframe thead th {\n",
       "        text-align: right;\n",
       "    }\n",
       "</style>\n",
       "<table border=\"1\" class=\"dataframe\">\n",
       "  <thead>\n",
       "    <tr style=\"text-align: right;\">\n",
       "      <th></th>\n",
       "      <th>出发机场</th>\n",
       "      <th>到达机场</th>\n",
       "      <th>航班编号</th>\n",
       "      <th>计划起飞时间</th>\n",
       "      <th>计划到达时间</th>\n",
       "      <th>实际起飞时间</th>\n",
       "      <th>实际到达时间</th>\n",
       "      <th>飞机编号</th>\n",
       "      <th>航班是否取消</th>\n",
       "      <th>起飞延误时间</th>\n",
       "      <th>飞机延误目标</th>\n",
       "      <th>计划起飞日期tmp</th>\n",
       "      <th>计划起飞日期</th>\n",
       "      <th>城市</th>\n",
       "      <th>天气</th>\n",
       "      <th>最低气温</th>\n",
       "      <th>最高气温</th>\n",
       "      <th>日期</th>\n",
       "      <th>机场编码</th>\n",
       "      <th>城市名称</th>\n",
       "    </tr>\n",
       "  </thead>\n",
       "  <tbody>\n",
       "    <tr>\n",
       "      <td>0</td>\n",
       "      <td>HGH</td>\n",
       "      <td>DLC</td>\n",
       "      <td>CZ6328</td>\n",
       "      <td>1453809600</td>\n",
       "      <td>1453817100</td>\n",
       "      <td>1.453813e+09</td>\n",
       "      <td>1.453819e+09</td>\n",
       "      <td>1.0</td>\n",
       "      <td>正常</td>\n",
       "      <td>0.966667</td>\n",
       "      <td>0</td>\n",
       "      <td>2016-01-26 12:00:00+00:00</td>\n",
       "      <td>2016-01-26</td>\n",
       "      <td>杭州</td>\n",
       "      <td>晴转阴</td>\n",
       "      <td>1</td>\n",
       "      <td>7</td>\n",
       "      <td>2016-01-26</td>\n",
       "      <td>HGH</td>\n",
       "      <td>杭州</td>\n",
       "    </tr>\n",
       "    <tr>\n",
       "      <td>1</td>\n",
       "      <td>SHA</td>\n",
       "      <td>XMN</td>\n",
       "      <td>FM9261</td>\n",
       "      <td>1452760800</td>\n",
       "      <td>1452767100</td>\n",
       "      <td>1.452763e+09</td>\n",
       "      <td>1.452768e+09</td>\n",
       "      <td>2.0</td>\n",
       "      <td>正常</td>\n",
       "      <td>0.500000</td>\n",
       "      <td>0</td>\n",
       "      <td>2016-01-14 08:40:00+00:00</td>\n",
       "      <td>2016-01-14</td>\n",
       "      <td>上海</td>\n",
       "      <td>多云</td>\n",
       "      <td>3</td>\n",
       "      <td>6</td>\n",
       "      <td>2016-01-14</td>\n",
       "      <td>SHA</td>\n",
       "      <td>上海</td>\n",
       "    </tr>\n",
       "    <tr>\n",
       "      <td>2</td>\n",
       "      <td>CAN</td>\n",
       "      <td>WNZ</td>\n",
       "      <td>ZH9597</td>\n",
       "      <td>1453800900</td>\n",
       "      <td>1453807500</td>\n",
       "      <td>1.453802e+09</td>\n",
       "      <td>1.453807e+09</td>\n",
       "      <td>3.0</td>\n",
       "      <td>正常</td>\n",
       "      <td>0.400000</td>\n",
       "      <td>0</td>\n",
       "      <td>2016-01-26 09:35:00+00:00</td>\n",
       "      <td>2016-01-26</td>\n",
       "      <td>广州</td>\n",
       "      <td>小雨转中雨</td>\n",
       "      <td>6</td>\n",
       "      <td>11</td>\n",
       "      <td>2016-01-26</td>\n",
       "      <td>CAN</td>\n",
       "      <td>广州</td>\n",
       "    </tr>\n",
       "    <tr>\n",
       "      <td>3</td>\n",
       "      <td>SHA</td>\n",
       "      <td>ZUH</td>\n",
       "      <td>9C8819</td>\n",
       "      <td>1452120600</td>\n",
       "      <td>1452131100</td>\n",
       "      <td>1.452121e+09</td>\n",
       "      <td>1.452130e+09</td>\n",
       "      <td>4.0</td>\n",
       "      <td>正常</td>\n",
       "      <td>0.233333</td>\n",
       "      <td>0</td>\n",
       "      <td>2016-01-06 22:50:00+00:00</td>\n",
       "      <td>2016-01-06</td>\n",
       "      <td>上海</td>\n",
       "      <td>小雨转阴</td>\n",
       "      <td>5</td>\n",
       "      <td>9</td>\n",
       "      <td>2016-01-06</td>\n",
       "      <td>SHA</td>\n",
       "      <td>上海</td>\n",
       "    </tr>\n",
       "    <tr>\n",
       "      <td>4</td>\n",
       "      <td>SHE</td>\n",
       "      <td>TAO</td>\n",
       "      <td>TZ185</td>\n",
       "      <td>1452399000</td>\n",
       "      <td>1452406800</td>\n",
       "      <td>1.452400e+09</td>\n",
       "      <td>1.452404e+09</td>\n",
       "      <td>5.0</td>\n",
       "      <td>正常</td>\n",
       "      <td>0.250000</td>\n",
       "      <td>0</td>\n",
       "      <td>2016-01-10 04:10:00+00:00</td>\n",
       "      <td>2016-01-10</td>\n",
       "      <td>沈阳</td>\n",
       "      <td>晴</td>\n",
       "      <td>-20</td>\n",
       "      <td>-7</td>\n",
       "      <td>2016-01-10</td>\n",
       "      <td>SHE</td>\n",
       "      <td>沈阳</td>\n",
       "    </tr>\n",
       "  </tbody>\n",
       "</table>\n",
       "</div>"
      ],
      "text/plain": [
       "  出发机场 到达机场    航班编号      计划起飞时间      计划到达时间        实际起飞时间        实际到达时间  飞机编号  \\\n",
       "0  HGH  DLC  CZ6328  1453809600  1453817100  1.453813e+09  1.453819e+09   1.0   \n",
       "1  SHA  XMN  FM9261  1452760800  1452767100  1.452763e+09  1.452768e+09   2.0   \n",
       "2  CAN  WNZ  ZH9597  1453800900  1453807500  1.453802e+09  1.453807e+09   3.0   \n",
       "3  SHA  ZUH  9C8819  1452120600  1452131100  1.452121e+09  1.452130e+09   4.0   \n",
       "4  SHE  TAO   TZ185  1452399000  1452406800  1.452400e+09  1.452404e+09   5.0   \n",
       "\n",
       "  航班是否取消    起飞延误时间  飞机延误目标                 计划起飞日期tmp      计划起飞日期  城市     天气  \\\n",
       "0     正常  0.966667       0 2016-01-26 12:00:00+00:00  2016-01-26  杭州    晴转阴   \n",
       "1     正常  0.500000       0 2016-01-14 08:40:00+00:00  2016-01-14  上海     多云   \n",
       "2     正常  0.400000       0 2016-01-26 09:35:00+00:00  2016-01-26  广州  小雨转中雨   \n",
       "3     正常  0.233333       0 2016-01-06 22:50:00+00:00  2016-01-06  上海   小雨转阴   \n",
       "4     正常  0.250000       0 2016-01-10 04:10:00+00:00  2016-01-10  沈阳      晴   \n",
       "\n",
       "  最低气温 最高气温          日期 机场编码 城市名称  \n",
       "0    1    7  2016-01-26  HGH   杭州  \n",
       "1    3    6  2016-01-14  SHA   上海  \n",
       "2    6   11  2016-01-26  CAN   广州  \n",
       "3    5    9  2016-01-06  SHA   上海  \n",
       "4  -20   -7  2016-01-10  SHE   沈阳  "
      ]
     },
     "execution_count": 14,
     "metadata": {},
     "output_type": "execute_result"
    }
   ],
   "source": [
    "# TODO: merge flight_data 和 airport_weather\n",
    "flight_data =\n",
    "flight_data.head()"
   ]
  },
  {
   "cell_type": "markdown",
   "metadata": {},
   "source": [
    "## 建立简单模型\n",
    "\n",
    "### 特征处理\n",
    "我们可以先建立一个最简单的模型，从飞行数据`flight_data`中挑选2列数据作为features，其中一个是我们刚刚构造好的“天气”数据，另外一个feature由你来选择。注意，其中“飞机延误时间”和“飞机延误目标”并不是feature，而是targets，所以不能选择这两列作为features。\n",
    "\n",
    "问题1：你选择的特征是特征是什么？说说你选择这个feature的理由。\n",
    "\n",
    "回答问题："
   ]
  },
  {
   "cell_type": "code",
   "execution_count": 26,
   "metadata": {},
   "outputs": [
    {
     "data": {
      "text/html": [
       "<div>\n",
       "<style scoped>\n",
       "    .dataframe tbody tr th:only-of-type {\n",
       "        vertical-align: middle;\n",
       "    }\n",
       "\n",
       "    .dataframe tbody tr th {\n",
       "        vertical-align: top;\n",
       "    }\n",
       "\n",
       "    .dataframe thead th {\n",
       "        text-align: right;\n",
       "    }\n",
       "</style>\n",
       "<table border=\"1\" class=\"dataframe\">\n",
       "  <thead>\n",
       "    <tr style=\"text-align: right;\">\n",
       "      <th></th>\n",
       "      <th>天气</th>\n",
       "      <th>航班编号</th>\n",
       "    </tr>\n",
       "  </thead>\n",
       "  <tbody>\n",
       "    <tr>\n",
       "      <td>0</td>\n",
       "      <td>晴转阴</td>\n",
       "      <td>CZ6328</td>\n",
       "    </tr>\n",
       "    <tr>\n",
       "      <td>1</td>\n",
       "      <td>多云</td>\n",
       "      <td>FM9261</td>\n",
       "    </tr>\n",
       "    <tr>\n",
       "      <td>2</td>\n",
       "      <td>小雨转中雨</td>\n",
       "      <td>ZH9597</td>\n",
       "    </tr>\n",
       "    <tr>\n",
       "      <td>3</td>\n",
       "      <td>小雨转阴</td>\n",
       "      <td>9C8819</td>\n",
       "    </tr>\n",
       "    <tr>\n",
       "      <td>4</td>\n",
       "      <td>晴</td>\n",
       "      <td>TZ185</td>\n",
       "    </tr>\n",
       "  </tbody>\n",
       "</table>\n",
       "</div>"
      ],
      "text/plain": [
       "      天气    航班编号\n",
       "0    晴转阴  CZ6328\n",
       "1     多云  FM9261\n",
       "2  小雨转中雨  ZH9597\n",
       "3   小雨转阴  9C8819\n",
       "4      晴   TZ185"
      ]
     },
     "execution_count": 26,
     "metadata": {},
     "output_type": "execute_result"
    }
   ],
   "source": [
    "# TODO: 选择一列数据作为feature\n",
    "features = [\"天气\"]\n",
    "add_to_feature =   # 你选择的feature\n",
    "features.append(add_to_feature)\n",
    "data = flight_data[features]\n",
    "\n",
    "data.head()\n"
   ]
  },
  {
   "cell_type": "code",
   "execution_count": 27,
   "metadata": {},
   "outputs": [],
   "source": [
    "# TODO：从 flight_data 中取出目标\"飞机延误目标\"的值，numpy格式的值\n",
    "targets = \n",
    "\n",
    "# train_data 的数据量和 targets 的数据量一定是相等的\n",
    "assert len(data) == len(targets)"
   ]
  },
  {
   "cell_type": "markdown",
   "metadata": {},
   "source": [
    "到这里，我们已经提取完并得到两个特征，但是现在的特征是非数值类型的，那么我们需要先对这些非数值类型的特征进行编码。这里我们使用的编码方式是 [sklearn.preprocessing.LabelEncoder.fit_transform](https://scikit-learn.org/stable/modules/generated/sklearn.preprocessing.LabelEncoder.html#sklearn.preprocessing.LabelEncoder.fit_transform)，它会将离散的字符映射到一个数值，用以表示该特征并参与模型计算。\n",
    "\n",
    "问题2：请参考文档简单介绍一下 `LabelEncoder.fit_transform`，说一下该方法和独热表示one-hot[get_dummies](https://pandas.pydata.org/pandas-docs/stable/reference/api/pandas.get_dummies.html)有什么区别，并回答这里为什么用 `fit_transform`？\n",
    "\n",
    "回答问题："
   ]
  },
  {
   "cell_type": "markdown",
   "metadata": {},
   "source": [
    "判断数据中是否存在缺省值的情况，如果存在，请处理缺省值。\n",
    "\n",
    "建议，你可以通过 `any(isnull())`[isnull](https://pandas.pydata.org/pandas-docs/stable/reference/api/pandas.isnull.html)去判断数据中是否存在缺失情况；然后通过[fillna](https://pandas.pydata.org/pandas-docs/stable/reference/api/pandas.DataFrame.fillna.html)去填补缺省值"
   ]
  },
  {
   "cell_type": "code",
   "execution_count": 28,
   "metadata": {},
   "outputs": [
    {
     "name": "stderr",
     "output_type": "stream",
     "text": [
      "C:\\Users\\libshi\\AppData\\Local\\Continuum\\miniconda3\\lib\\site-packages\\ipykernel_launcher.py:2: SettingWithCopyWarning: \n",
      "A value is trying to be set on a copy of a slice from a DataFrame.\n",
      "Try using .loc[row_indexer,col_indexer] = value instead\n",
      "\n",
      "See the caveats in the documentation: http://pandas.pydata.org/pandas-docs/stable/user_guide/indexing.html#returning-a-view-versus-a-copy\n",
      "  \n",
      "C:\\Users\\libshi\\AppData\\Local\\Continuum\\miniconda3\\lib\\site-packages\\ipykernel_launcher.py:3: SettingWithCopyWarning: \n",
      "A value is trying to be set on a copy of a slice from a DataFrame.\n",
      "Try using .loc[row_indexer,col_indexer] = value instead\n",
      "\n",
      "See the caveats in the documentation: http://pandas.pydata.org/pandas-docs/stable/user_guide/indexing.html#returning-a-view-versus-a-copy\n",
      "  This is separate from the ipykernel package so we can avoid doing imports until\n"
     ]
    }
   ],
   "source": [
    "# TODO：判断并处理`data`中的缺省值\n"
   ]
  },
  {
   "cell_type": "code",
   "execution_count": 29,
   "metadata": {},
   "outputs": [
    {
     "name": "stderr",
     "output_type": "stream",
     "text": [
      "C:\\Users\\libshi\\AppData\\Local\\Continuum\\miniconda3\\lib\\site-packages\\ipykernel_launcher.py:4: SettingWithCopyWarning: \n",
      "A value is trying to be set on a copy of a slice from a DataFrame.\n",
      "Try using .loc[row_indexer,col_indexer] = value instead\n",
      "\n",
      "See the caveats in the documentation: http://pandas.pydata.org/pandas-docs/stable/user_guide/indexing.html#returning-a-view-versus-a-copy\n",
      "  after removing the cwd from sys.path.\n",
      "C:\\Users\\libshi\\AppData\\Local\\Continuum\\miniconda3\\lib\\site-packages\\ipykernel_launcher.py:7: SettingWithCopyWarning: \n",
      "A value is trying to be set on a copy of a slice from a DataFrame.\n",
      "Try using .loc[row_indexer,col_indexer] = value instead\n",
      "\n",
      "See the caveats in the documentation: http://pandas.pydata.org/pandas-docs/stable/user_guide/indexing.html#returning-a-view-versus-a-copy\n",
      "  import sys\n"
     ]
    }
   ],
   "source": [
    "from sklearn import preprocessing\n",
    "string_encoder = preprocessing.LabelEncoder()\n",
    "# 我们首先对天气特征的进行编码\n",
    "data[\"天气\"] = string_encoder.fit_transform(data[\"天气\"])\n",
    "\n",
    "# TODO：对你选择的特征进行编码，如果你选择的是数值类型的特征，那么你可以按照前面所学知识进行归一化等处理\n",
    "data[add_to_feature] = "
   ]
  },
  {
   "cell_type": "markdown",
   "metadata": {},
   "source": [
    "### 模型构建\n",
    "\n",
    "根据上面构造好的feature和target，接下来就构建一个简单的model。\n",
    "\n",
    "- 第一步：使用`sklearn.model_selection.train_test_split`按**0.25**的测试比例切分训练集和验证集；\n",
    "- 第二步：选择一个模型，设置参数，进行训练。这里我们先选择 GradientBoostingClassifier 来作为base的模型。"
   ]
  },
  {
   "cell_type": "code",
   "execution_count": 31,
   "metadata": {},
   "outputs": [
    {
     "data": {
      "text/plain": [
       "GradientBoostingClassifier(criterion='friedman_mse', init=None,\n",
       "                           learning_rate=0.08, loss='exponential', max_depth=5,\n",
       "                           max_features=None, max_leaf_nodes=None,\n",
       "                           min_impurity_decrease=0.0, min_impurity_split=None,\n",
       "                           min_samples_leaf=50, min_samples_split=2,\n",
       "                           min_weight_fraction_leaf=0.0, n_estimators=30,\n",
       "                           n_iter_no_change=None, presort='auto',\n",
       "                           random_state=None, subsample=0.8, tol=0.0001,\n",
       "                           validation_fraction=0.1, verbose=0,\n",
       "                           warm_start=False)"
      ]
     },
     "execution_count": 31,
     "metadata": {},
     "output_type": "execute_result"
    }
   ],
   "source": [
    "from sklearn.model_selection import train_test_split\n",
    "from sklearn.ensemble import GradientBoostingClassifier\n",
    "\n",
    "# TODO：使用 train_test_split 切分训练集和验证集\n",
    "train_x,test_x,train_y,test_y = \n",
    "\n",
    "# TODO：设置模型参数，然后在训练集上训练模型\n",
    "\n",
    "# TODO: 定义loss 函数\n",
    "loss = \n",
    "\n",
    "# TODO: 定义 n_estimators\n",
    "n_estimators = \n",
    "\n",
    "# TODO：定义 max_depth\n",
    "max_depth = \n",
    "\n",
    "# TODO：定义learning_rate\n",
    "learning_rate = \n",
    "\n",
    "# TODO：定义min_samples_leaf\n",
    "min_samples_leaf = \n",
    "\n",
    "gbdt = GradientBoostingClassifier(loss=loss,n_estimators=n_estimators,max_depth=max_depth,learning_rate=learning_rate,min_samples_leaf=min_samples_leaf,subsample=0.8)\n",
    "gbdt.fit(train_x, train_y)\n",
    "\n"
   ]
  },
  {
   "cell_type": "markdown",
   "metadata": {},
   "source": [
    "对模型进行测试，直接运行下面的代码"
   ]
  },
  {
   "cell_type": "code",
   "execution_count": 34,
   "metadata": {},
   "outputs": [
    {
     "data": {
      "text/plain": [
       "0.6288023165828878"
      ]
     },
     "execution_count": 34,
     "metadata": {},
     "output_type": "execute_result"
    }
   ],
   "source": [
    "from sklearn import metrics\n",
    "\n",
    "# 预测测试集的结果\n",
    "pre_y = gbdt.predict_proba(test_x)[:,1]\n",
    "# 利用 roc_curve 计算出\n",
    "fpr, tpr, thresholds = metrics.roc_curve(test_y, pre_y)\n",
    "auc=metrics.auc(fpr, tpr)\n",
    "\n",
    "print(\"准确率：{}\".format(auc))\n"
   ]
  },
  {
   "cell_type": "markdown",
   "metadata": {
    "collapsed": true
   },
   "source": [
    "问题3：如上操作的选择切分一次验证集并进行训练和验证存在哪些问题？\n",
    "\n",
    "回答问题："
   ]
  },
  {
   "cell_type": "markdown",
   "metadata": {},
   "source": [
    "### 特征重要性分析\n",
    "在做数据分析过程中，我们需要分析抽取出来的特征对预测的贡献，以得出特征的重要性。特征重要性分析能够帮助我们继续进行相关的特征工程，比如过滤一些没有贡献的特征，加强一些比较重要的特征。\n",
    "\n",
    "直接运行下面特征分析图，你可以观察到“天气”特征和你选择的特征的重要性对比，并回答下面的问题。"
   ]
  },
  {
   "cell_type": "code",
   "execution_count": 37,
   "metadata": {},
   "outputs": [
    {
     "data": {
      "image/png": "[encoded data removed]",
      "text/plain": [
       "<Figure size 864x576 with 1 Axes>"
      ]
     },
     "metadata": {
      "needs_background": "light"
     },
     "output_type": "display_data"
    }
   ],
   "source": [
    "# 直接运行\n",
    "import matplotlib.pyplot as plt\n",
    "features = [\"weather\", \"your feature\"]\n",
    "feature_important = gbdt.feature_importances_\n",
    "plt.figure(figsize=(12,8))\n",
    "plt.bar(np.arange(len(features)),feature_important)\n",
    "plt.xticks(np.arange(len(features)),features,fontsize=12,rotation=10)\n",
    "plt.show()\n"
   ]
  },
  {
   "cell_type": "markdown",
   "metadata": {},
   "source": [
    "问题4：哪一个特征更加重要？这符合你的直觉吗？谈谈你在平时的项目中在做特征工程时，对于使用符合直觉的特征的看法，可以举例说明。\n",
    "\n",
    "回答问题："
   ]
  },
  {
   "cell_type": "markdown",
   "metadata": {},
   "source": [
    "### 模型调参\n",
    "你需要通过[GridSearchCV](https://scikit-learn.org/stable/modules/generated/sklearn.model_selection.GridSearchCV.html)对 `GradientBoostingClassifier` 中的参数 `max_depth` 进行调参，得出最优的参数。这里只对一个参数进行调参，是因为数据量非常大，大范围调参将会非常耗时。"
   ]
  },
  {
   "cell_type": "code",
   "execution_count": 45,
   "metadata": {},
   "outputs": [
    {
     "ename": "KeyboardInterrupt",
     "evalue": "",
     "output_type": "error",
     "traceback": [
      "\u001b[1;31m---------------------------------------------------------------------------\u001b[0m",
      "\u001b[1;31mKeyboardInterrupt\u001b[0m                         Traceback (most recent call last)",
      "\u001b[1;32m<ipython-input-45-a0306a3b033c>\u001b[0m in \u001b[0;36m<module>\u001b[1;34m\u001b[0m\n\u001b[0;32m     10\u001b[0m \u001b[0mgrid_cv\u001b[0m \u001b[1;33m=\u001b[0m \u001b[0mGridSearchCV\u001b[0m\u001b[1;33m(\u001b[0m\u001b[0mestimator\u001b[0m\u001b[1;33m,\u001b[0m \u001b[0mcv\u001b[0m\u001b[1;33m=\u001b[0m\u001b[1;36m3\u001b[0m\u001b[1;33m,\u001b[0m \u001b[0mparam_grid\u001b[0m\u001b[1;33m=\u001b[0m\u001b[0mparams\u001b[0m\u001b[1;33m,\u001b[0m \u001b[0mscoring\u001b[0m\u001b[1;33m=\u001b[0m\u001b[1;34m\"roc_auc\"\u001b[0m\u001b[1;33m)\u001b[0m\u001b[1;33m\u001b[0m\u001b[1;33m\u001b[0m\u001b[0m\n\u001b[0;32m     11\u001b[0m \u001b[1;33m\u001b[0m\u001b[0m\n\u001b[1;32m---> 12\u001b[1;33m \u001b[0mgrid_cv\u001b[0m\u001b[1;33m.\u001b[0m\u001b[0mfit\u001b[0m\u001b[1;33m(\u001b[0m\u001b[0mtrain_x\u001b[0m\u001b[1;33m,\u001b[0m \u001b[0mtrain_y\u001b[0m\u001b[1;33m)\u001b[0m\u001b[1;33m\u001b[0m\u001b[1;33m\u001b[0m\u001b[0m\n\u001b[0m",
      "\u001b[1;32m~\\AppData\\Local\\Continuum\\miniconda3\\lib\\site-packages\\sklearn\\model_selection\\_search.py\u001b[0m in \u001b[0;36mfit\u001b[1;34m(self, X, y, groups, **fit_params)\u001b[0m\n\u001b[0;32m    686\u001b[0m                 \u001b[1;32mreturn\u001b[0m \u001b[0mresults\u001b[0m\u001b[1;33m\u001b[0m\u001b[1;33m\u001b[0m\u001b[0m\n\u001b[0;32m    687\u001b[0m \u001b[1;33m\u001b[0m\u001b[0m\n\u001b[1;32m--> 688\u001b[1;33m             \u001b[0mself\u001b[0m\u001b[1;33m.\u001b[0m\u001b[0m_run_search\u001b[0m\u001b[1;33m(\u001b[0m\u001b[0mevaluate_candidates\u001b[0m\u001b[1;33m)\u001b[0m\u001b[1;33m\u001b[0m\u001b[1;33m\u001b[0m\u001b[0m\n\u001b[0m\u001b[0;32m    689\u001b[0m \u001b[1;33m\u001b[0m\u001b[0m\n\u001b[0;32m    690\u001b[0m         \u001b[1;31m# For multi-metric evaluation, store the best_index_, best_params_ and\u001b[0m\u001b[1;33m\u001b[0m\u001b[1;33m\u001b[0m\u001b[1;33m\u001b[0m\u001b[0m\n",
      "\u001b[1;32m~\\AppData\\Local\\Continuum\\miniconda3\\lib\\site-packages\\sklearn\\model_selection\\_search.py\u001b[0m in \u001b[0;36m_run_search\u001b[1;34m(self, evaluate_candidates)\u001b[0m\n\u001b[0;32m   1147\u001b[0m     \u001b[1;32mdef\u001b[0m \u001b[0m_run_search\u001b[0m\u001b[1;33m(\u001b[0m\u001b[0mself\u001b[0m\u001b[1;33m,\u001b[0m \u001b[0mevaluate_candidates\u001b[0m\u001b[1;33m)\u001b[0m\u001b[1;33m:\u001b[0m\u001b[1;33m\u001b[0m\u001b[1;33m\u001b[0m\u001b[0m\n\u001b[0;32m   1148\u001b[0m         \u001b[1;34m\"\"\"Search all candidates in param_grid\"\"\"\u001b[0m\u001b[1;33m\u001b[0m\u001b[1;33m\u001b[0m\u001b[0m\n\u001b[1;32m-> 1149\u001b[1;33m         \u001b[0mevaluate_candidates\u001b[0m\u001b[1;33m(\u001b[0m\u001b[0mParameterGrid\u001b[0m\u001b[1;33m(\u001b[0m\u001b[0mself\u001b[0m\u001b[1;33m.\u001b[0m\u001b[0mparam_grid\u001b[0m\u001b[1;33m)\u001b[0m\u001b[1;33m)\u001b[0m\u001b[1;33m\u001b[0m\u001b[1;33m\u001b[0m\u001b[0m\n\u001b[0m\u001b[0;32m   1150\u001b[0m \u001b[1;33m\u001b[0m\u001b[0m\n\u001b[0;32m   1151\u001b[0m \u001b[1;33m\u001b[0m\u001b[0m\n",
      "\u001b[1;32m~\\AppData\\Local\\Continuum\\miniconda3\\lib\\site-packages\\sklearn\\model_selection\\_search.py\u001b[0m in \u001b[0;36mevaluate_candidates\u001b[1;34m(candidate_params)\u001b[0m\n\u001b[0;32m    665\u001b[0m                                \u001b[1;32mfor\u001b[0m \u001b[0mparameters\u001b[0m\u001b[1;33m,\u001b[0m \u001b[1;33m(\u001b[0m\u001b[0mtrain\u001b[0m\u001b[1;33m,\u001b[0m \u001b[0mtest\u001b[0m\u001b[1;33m)\u001b[0m\u001b[1;33m\u001b[0m\u001b[1;33m\u001b[0m\u001b[0m\n\u001b[0;32m    666\u001b[0m                                in product(candidate_params,\n\u001b[1;32m--> 667\u001b[1;33m                                           cv.split(X, y, groups)))\n\u001b[0m\u001b[0;32m    668\u001b[0m \u001b[1;33m\u001b[0m\u001b[0m\n\u001b[0;32m    669\u001b[0m                 \u001b[1;32mif\u001b[0m \u001b[0mlen\u001b[0m\u001b[1;33m(\u001b[0m\u001b[0mout\u001b[0m\u001b[1;33m)\u001b[0m \u001b[1;33m<\u001b[0m \u001b[1;36m1\u001b[0m\u001b[1;33m:\u001b[0m\u001b[1;33m\u001b[0m\u001b[1;33m\u001b[0m\u001b[0m\n",
      "\u001b[1;32m~\\AppData\\Local\\Continuum\\miniconda3\\lib\\site-packages\\joblib\\parallel.py\u001b[0m in \u001b[0;36m__call__\u001b[1;34m(self, iterable)\u001b[0m\n\u001b[0;32m   1004\u001b[0m                 \u001b[0mself\u001b[0m\u001b[1;33m.\u001b[0m\u001b[0m_iterating\u001b[0m \u001b[1;33m=\u001b[0m \u001b[0mself\u001b[0m\u001b[1;33m.\u001b[0m\u001b[0m_original_iterator\u001b[0m \u001b[1;32mis\u001b[0m \u001b[1;32mnot\u001b[0m \u001b[1;32mNone\u001b[0m\u001b[1;33m\u001b[0m\u001b[1;33m\u001b[0m\u001b[0m\n\u001b[0;32m   1005\u001b[0m \u001b[1;33m\u001b[0m\u001b[0m\n\u001b[1;32m-> 1006\u001b[1;33m             \u001b[1;32mwhile\u001b[0m \u001b[0mself\u001b[0m\u001b[1;33m.\u001b[0m\u001b[0mdispatch_one_batch\u001b[0m\u001b[1;33m(\u001b[0m\u001b[0miterator\u001b[0m\u001b[1;33m)\u001b[0m\u001b[1;33m:\u001b[0m\u001b[1;33m\u001b[0m\u001b[1;33m\u001b[0m\u001b[0m\n\u001b[0m\u001b[0;32m   1007\u001b[0m                 \u001b[1;32mpass\u001b[0m\u001b[1;33m\u001b[0m\u001b[1;33m\u001b[0m\u001b[0m\n\u001b[0;32m   1008\u001b[0m \u001b[1;33m\u001b[0m\u001b[0m\n",
      "\u001b[1;32m~\\AppData\\Local\\Continuum\\miniconda3\\lib\\site-packages\\joblib\\parallel.py\u001b[0m in \u001b[0;36mdispatch_one_batch\u001b[1;34m(self, iterator)\u001b[0m\n\u001b[0;32m    832\u001b[0m                 \u001b[1;32mreturn\u001b[0m \u001b[1;32mFalse\u001b[0m\u001b[1;33m\u001b[0m\u001b[1;33m\u001b[0m\u001b[0m\n\u001b[0;32m    833\u001b[0m             \u001b[1;32melse\u001b[0m\u001b[1;33m:\u001b[0m\u001b[1;33m\u001b[0m\u001b[1;33m\u001b[0m\u001b[0m\n\u001b[1;32m--> 834\u001b[1;33m                 \u001b[0mself\u001b[0m\u001b[1;33m.\u001b[0m\u001b[0m_dispatch\u001b[0m\u001b[1;33m(\u001b[0m\u001b[0mtasks\u001b[0m\u001b[1;33m)\u001b[0m\u001b[1;33m\u001b[0m\u001b[1;33m\u001b[0m\u001b[0m\n\u001b[0m\u001b[0;32m    835\u001b[0m                 \u001b[1;32mreturn\u001b[0m \u001b[1;32mTrue\u001b[0m\u001b[1;33m\u001b[0m\u001b[1;33m\u001b[0m\u001b[0m\n\u001b[0;32m    836\u001b[0m \u001b[1;33m\u001b[0m\u001b[0m\n",
      "\u001b[1;32m~\\AppData\\Local\\Continuum\\miniconda3\\lib\\site-packages\\joblib\\parallel.py\u001b[0m in \u001b[0;36m_dispatch\u001b[1;34m(self, batch)\u001b[0m\n\u001b[0;32m    751\u001b[0m         \u001b[1;32mwith\u001b[0m \u001b[0mself\u001b[0m\u001b[1;33m.\u001b[0m\u001b[0m_lock\u001b[0m\u001b[1;33m:\u001b[0m\u001b[1;33m\u001b[0m\u001b[1;33m\u001b[0m\u001b[0m\n\u001b[0;32m    752\u001b[0m             \u001b[0mjob_idx\u001b[0m \u001b[1;33m=\u001b[0m \u001b[0mlen\u001b[0m\u001b[1;33m(\u001b[0m\u001b[0mself\u001b[0m\u001b[1;33m.\u001b[0m\u001b[0m_jobs\u001b[0m\u001b[1;33m)\u001b[0m\u001b[1;33m\u001b[0m\u001b[1;33m\u001b[0m\u001b[0m\n\u001b[1;32m--> 753\u001b[1;33m             \u001b[0mjob\u001b[0m \u001b[1;33m=\u001b[0m \u001b[0mself\u001b[0m\u001b[1;33m.\u001b[0m\u001b[0m_backend\u001b[0m\u001b[1;33m.\u001b[0m\u001b[0mapply_async\u001b[0m\u001b[1;33m(\u001b[0m\u001b[0mbatch\u001b[0m\u001b[1;33m,\u001b[0m \u001b[0mcallback\u001b[0m\u001b[1;33m=\u001b[0m\u001b[0mcb\u001b[0m\u001b[1;33m)\u001b[0m\u001b[1;33m\u001b[0m\u001b[1;33m\u001b[0m\u001b[0m\n\u001b[0m\u001b[0;32m    754\u001b[0m             \u001b[1;31m# A job can complete so quickly than its callback is\u001b[0m\u001b[1;33m\u001b[0m\u001b[1;33m\u001b[0m\u001b[1;33m\u001b[0m\u001b[0m\n\u001b[0;32m    755\u001b[0m             \u001b[1;31m# called before we get here, causing self._jobs to\u001b[0m\u001b[1;33m\u001b[0m\u001b[1;33m\u001b[0m\u001b[1;33m\u001b[0m\u001b[0m\n",
      "\u001b[1;32m~\\AppData\\Local\\Continuum\\miniconda3\\lib\\site-packages\\joblib\\_parallel_backends.py\u001b[0m in \u001b[0;36mapply_async\u001b[1;34m(self, func, callback)\u001b[0m\n\u001b[0;32m    199\u001b[0m     \u001b[1;32mdef\u001b[0m \u001b[0mapply_async\u001b[0m\u001b[1;33m(\u001b[0m\u001b[0mself\u001b[0m\u001b[1;33m,\u001b[0m \u001b[0mfunc\u001b[0m\u001b[1;33m,\u001b[0m \u001b[0mcallback\u001b[0m\u001b[1;33m=\u001b[0m\u001b[1;32mNone\u001b[0m\u001b[1;33m)\u001b[0m\u001b[1;33m:\u001b[0m\u001b[1;33m\u001b[0m\u001b[1;33m\u001b[0m\u001b[0m\n\u001b[0;32m    200\u001b[0m         \u001b[1;34m\"\"\"Schedule a func to be run\"\"\"\u001b[0m\u001b[1;33m\u001b[0m\u001b[1;33m\u001b[0m\u001b[0m\n\u001b[1;32m--> 201\u001b[1;33m         \u001b[0mresult\u001b[0m \u001b[1;33m=\u001b[0m \u001b[0mImmediateResult\u001b[0m\u001b[1;33m(\u001b[0m\u001b[0mfunc\u001b[0m\u001b[1;33m)\u001b[0m\u001b[1;33m\u001b[0m\u001b[1;33m\u001b[0m\u001b[0m\n\u001b[0m\u001b[0;32m    202\u001b[0m         \u001b[1;32mif\u001b[0m \u001b[0mcallback\u001b[0m\u001b[1;33m:\u001b[0m\u001b[1;33m\u001b[0m\u001b[1;33m\u001b[0m\u001b[0m\n\u001b[0;32m    203\u001b[0m             \u001b[0mcallback\u001b[0m\u001b[1;33m(\u001b[0m\u001b[0mresult\u001b[0m\u001b[1;33m)\u001b[0m\u001b[1;33m\u001b[0m\u001b[1;33m\u001b[0m\u001b[0m\n",
      "\u001b[1;32m~\\AppData\\Local\\Continuum\\miniconda3\\lib\\site-packages\\joblib\\_parallel_backends.py\u001b[0m in \u001b[0;36m__init__\u001b[1;34m(self, batch)\u001b[0m\n\u001b[0;32m    580\u001b[0m         \u001b[1;31m# Don't delay the application, to avoid keeping the input\u001b[0m\u001b[1;33m\u001b[0m\u001b[1;33m\u001b[0m\u001b[1;33m\u001b[0m\u001b[0m\n\u001b[0;32m    581\u001b[0m         \u001b[1;31m# arguments in memory\u001b[0m\u001b[1;33m\u001b[0m\u001b[1;33m\u001b[0m\u001b[1;33m\u001b[0m\u001b[0m\n\u001b[1;32m--> 582\u001b[1;33m         \u001b[0mself\u001b[0m\u001b[1;33m.\u001b[0m\u001b[0mresults\u001b[0m \u001b[1;33m=\u001b[0m \u001b[0mbatch\u001b[0m\u001b[1;33m(\u001b[0m\u001b[1;33m)\u001b[0m\u001b[1;33m\u001b[0m\u001b[1;33m\u001b[0m\u001b[0m\n\u001b[0m\u001b[0;32m    583\u001b[0m \u001b[1;33m\u001b[0m\u001b[0m\n\u001b[0;32m    584\u001b[0m     \u001b[1;32mdef\u001b[0m \u001b[0mget\u001b[0m\u001b[1;33m(\u001b[0m\u001b[0mself\u001b[0m\u001b[1;33m)\u001b[0m\u001b[1;33m:\u001b[0m\u001b[1;33m\u001b[0m\u001b[1;33m\u001b[0m\u001b[0m\n",
      "\u001b[1;32m~\\AppData\\Local\\Continuum\\miniconda3\\lib\\site-packages\\joblib\\parallel.py\u001b[0m in \u001b[0;36m__call__\u001b[1;34m(self)\u001b[0m\n\u001b[0;32m    254\u001b[0m         \u001b[1;32mwith\u001b[0m \u001b[0mparallel_backend\u001b[0m\u001b[1;33m(\u001b[0m\u001b[0mself\u001b[0m\u001b[1;33m.\u001b[0m\u001b[0m_backend\u001b[0m\u001b[1;33m,\u001b[0m \u001b[0mn_jobs\u001b[0m\u001b[1;33m=\u001b[0m\u001b[0mself\u001b[0m\u001b[1;33m.\u001b[0m\u001b[0m_n_jobs\u001b[0m\u001b[1;33m)\u001b[0m\u001b[1;33m:\u001b[0m\u001b[1;33m\u001b[0m\u001b[1;33m\u001b[0m\u001b[0m\n\u001b[0;32m    255\u001b[0m             return [func(*args, **kwargs)\n\u001b[1;32m--> 256\u001b[1;33m                     for func, args, kwargs in self.items]\n\u001b[0m\u001b[0;32m    257\u001b[0m \u001b[1;33m\u001b[0m\u001b[0m\n\u001b[0;32m    258\u001b[0m     \u001b[1;32mdef\u001b[0m \u001b[0m__len__\u001b[0m\u001b[1;33m(\u001b[0m\u001b[0mself\u001b[0m\u001b[1;33m)\u001b[0m\u001b[1;33m:\u001b[0m\u001b[1;33m\u001b[0m\u001b[1;33m\u001b[0m\u001b[0m\n",
      "\u001b[1;32m~\\AppData\\Local\\Continuum\\miniconda3\\lib\\site-packages\\joblib\\parallel.py\u001b[0m in \u001b[0;36m<listcomp>\u001b[1;34m(.0)\u001b[0m\n\u001b[0;32m    254\u001b[0m         \u001b[1;32mwith\u001b[0m \u001b[0mparallel_backend\u001b[0m\u001b[1;33m(\u001b[0m\u001b[0mself\u001b[0m\u001b[1;33m.\u001b[0m\u001b[0m_backend\u001b[0m\u001b[1;33m,\u001b[0m \u001b[0mn_jobs\u001b[0m\u001b[1;33m=\u001b[0m\u001b[0mself\u001b[0m\u001b[1;33m.\u001b[0m\u001b[0m_n_jobs\u001b[0m\u001b[1;33m)\u001b[0m\u001b[1;33m:\u001b[0m\u001b[1;33m\u001b[0m\u001b[1;33m\u001b[0m\u001b[0m\n\u001b[0;32m    255\u001b[0m             return [func(*args, **kwargs)\n\u001b[1;32m--> 256\u001b[1;33m                     for func, args, kwargs in self.items]\n\u001b[0m\u001b[0;32m    257\u001b[0m \u001b[1;33m\u001b[0m\u001b[0m\n\u001b[0;32m    258\u001b[0m     \u001b[1;32mdef\u001b[0m \u001b[0m__len__\u001b[0m\u001b[1;33m(\u001b[0m\u001b[0mself\u001b[0m\u001b[1;33m)\u001b[0m\u001b[1;33m:\u001b[0m\u001b[1;33m\u001b[0m\u001b[1;33m\u001b[0m\u001b[0m\n",
      "\u001b[1;32m~\\AppData\\Local\\Continuum\\miniconda3\\lib\\site-packages\\sklearn\\model_selection\\_validation.py\u001b[0m in \u001b[0;36m_fit_and_score\u001b[1;34m(estimator, X, y, scorer, train, test, verbose, parameters, fit_params, return_train_score, return_parameters, return_n_test_samples, return_times, return_estimator, error_score)\u001b[0m\n\u001b[0;32m    514\u001b[0m             \u001b[0mestimator\u001b[0m\u001b[1;33m.\u001b[0m\u001b[0mfit\u001b[0m\u001b[1;33m(\u001b[0m\u001b[0mX_train\u001b[0m\u001b[1;33m,\u001b[0m \u001b[1;33m**\u001b[0m\u001b[0mfit_params\u001b[0m\u001b[1;33m)\u001b[0m\u001b[1;33m\u001b[0m\u001b[1;33m\u001b[0m\u001b[0m\n\u001b[0;32m    515\u001b[0m         \u001b[1;32melse\u001b[0m\u001b[1;33m:\u001b[0m\u001b[1;33m\u001b[0m\u001b[1;33m\u001b[0m\u001b[0m\n\u001b[1;32m--> 516\u001b[1;33m             \u001b[0mestimator\u001b[0m\u001b[1;33m.\u001b[0m\u001b[0mfit\u001b[0m\u001b[1;33m(\u001b[0m\u001b[0mX_train\u001b[0m\u001b[1;33m,\u001b[0m \u001b[0my_train\u001b[0m\u001b[1;33m,\u001b[0m \u001b[1;33m**\u001b[0m\u001b[0mfit_params\u001b[0m\u001b[1;33m)\u001b[0m\u001b[1;33m\u001b[0m\u001b[1;33m\u001b[0m\u001b[0m\n\u001b[0m\u001b[0;32m    517\u001b[0m \u001b[1;33m\u001b[0m\u001b[0m\n\u001b[0;32m    518\u001b[0m     \u001b[1;32mexcept\u001b[0m \u001b[0mException\u001b[0m \u001b[1;32mas\u001b[0m \u001b[0me\u001b[0m\u001b[1;33m:\u001b[0m\u001b[1;33m\u001b[0m\u001b[1;33m\u001b[0m\u001b[0m\n",
      "\u001b[1;32m~\\AppData\\Local\\Continuum\\miniconda3\\lib\\site-packages\\sklearn\\ensemble\\gradient_boosting.py\u001b[0m in \u001b[0;36mfit\u001b[1;34m(self, X, y, sample_weight, monitor)\u001b[0m\n\u001b[0;32m   1544\u001b[0m         n_stages = self._fit_stages(\n\u001b[0;32m   1545\u001b[0m             \u001b[0mX\u001b[0m\u001b[1;33m,\u001b[0m \u001b[0my\u001b[0m\u001b[1;33m,\u001b[0m \u001b[0mraw_predictions\u001b[0m\u001b[1;33m,\u001b[0m \u001b[0msample_weight\u001b[0m\u001b[1;33m,\u001b[0m \u001b[0mself\u001b[0m\u001b[1;33m.\u001b[0m\u001b[0m_rng\u001b[0m\u001b[1;33m,\u001b[0m \u001b[0mX_val\u001b[0m\u001b[1;33m,\u001b[0m \u001b[0my_val\u001b[0m\u001b[1;33m,\u001b[0m\u001b[1;33m\u001b[0m\u001b[1;33m\u001b[0m\u001b[0m\n\u001b[1;32m-> 1546\u001b[1;33m             sample_weight_val, begin_at_stage, monitor, X_idx_sorted)\n\u001b[0m\u001b[0;32m   1547\u001b[0m \u001b[1;33m\u001b[0m\u001b[0m\n\u001b[0;32m   1548\u001b[0m         \u001b[1;31m# change shape of arrays after fit (early-stopping or additional ests)\u001b[0m\u001b[1;33m\u001b[0m\u001b[1;33m\u001b[0m\u001b[1;33m\u001b[0m\u001b[0m\n",
      "\u001b[1;32m~\\AppData\\Local\\Continuum\\miniconda3\\lib\\site-packages\\sklearn\\ensemble\\gradient_boosting.py\u001b[0m in \u001b[0;36m_fit_stages\u001b[1;34m(self, X, y, raw_predictions, sample_weight, random_state, X_val, y_val, sample_weight_val, begin_at_stage, monitor, X_idx_sorted)\u001b[0m\n\u001b[0;32m   1608\u001b[0m             raw_predictions = self._fit_stage(\n\u001b[0;32m   1609\u001b[0m                 \u001b[0mi\u001b[0m\u001b[1;33m,\u001b[0m \u001b[0mX\u001b[0m\u001b[1;33m,\u001b[0m \u001b[0my\u001b[0m\u001b[1;33m,\u001b[0m \u001b[0mraw_predictions\u001b[0m\u001b[1;33m,\u001b[0m \u001b[0msample_weight\u001b[0m\u001b[1;33m,\u001b[0m \u001b[0msample_mask\u001b[0m\u001b[1;33m,\u001b[0m\u001b[1;33m\u001b[0m\u001b[1;33m\u001b[0m\u001b[0m\n\u001b[1;32m-> 1610\u001b[1;33m                 random_state, X_idx_sorted, X_csc, X_csr)\n\u001b[0m\u001b[0;32m   1611\u001b[0m \u001b[1;33m\u001b[0m\u001b[0m\n\u001b[0;32m   1612\u001b[0m             \u001b[1;31m# track deviance (= loss)\u001b[0m\u001b[1;33m\u001b[0m\u001b[1;33m\u001b[0m\u001b[1;33m\u001b[0m\u001b[0m\n",
      "\u001b[1;32m~\\AppData\\Local\\Continuum\\miniconda3\\lib\\site-packages\\sklearn\\ensemble\\gradient_boosting.py\u001b[0m in \u001b[0;36m_fit_stage\u001b[1;34m(self, i, X, y, raw_predictions, sample_weight, sample_mask, random_state, X_idx_sorted, X_csc, X_csr)\u001b[0m\n\u001b[0;32m   1219\u001b[0m \u001b[1;33m\u001b[0m\u001b[0m\n\u001b[0;32m   1220\u001b[0m             residual = loss.negative_gradient(y, raw_predictions_copy, k=k,\n\u001b[1;32m-> 1221\u001b[1;33m                                               sample_weight=sample_weight)\n\u001b[0m\u001b[0;32m   1222\u001b[0m \u001b[1;33m\u001b[0m\u001b[0m\n\u001b[0;32m   1223\u001b[0m             \u001b[1;31m# induce regression tree on residuals\u001b[0m\u001b[1;33m\u001b[0m\u001b[1;33m\u001b[0m\u001b[1;33m\u001b[0m\u001b[0m\n",
      "\u001b[1;32m~\\AppData\\Local\\Continuum\\miniconda3\\lib\\site-packages\\sklearn\\ensemble\\_gb_losses.py\u001b[0m in \u001b[0;36mnegative_gradient\u001b[1;34m(self, y, raw_predictions, **kargs)\u001b[0m\n\u001b[0;32m    833\u001b[0m             \u001b[0mtree\u001b[0m \u001b[0mensemble\u001b[0m \u001b[0mat\u001b[0m \u001b[0miteration\u001b[0m\u001b[0;31m \u001b[0m\u001b[0;31m`\u001b[0m\u001b[0;31m`\u001b[0m\u001b[0mi\u001b[0m \u001b[1;33m-\u001b[0m \u001b[1;36m1\u001b[0m\u001b[0;31m`\u001b[0m\u001b[0;31m`\u001b[0m\u001b[1;33m.\u001b[0m\u001b[1;33m\u001b[0m\u001b[1;33m\u001b[0m\u001b[0m\n\u001b[0;32m    834\u001b[0m         \"\"\"\n\u001b[1;32m--> 835\u001b[1;33m         \u001b[0my_\u001b[0m \u001b[1;33m=\u001b[0m \u001b[1;33m-\u001b[0m\u001b[1;33m(\u001b[0m\u001b[1;36m2.\u001b[0m \u001b[1;33m*\u001b[0m \u001b[0my\u001b[0m \u001b[1;33m-\u001b[0m \u001b[1;36m1.\u001b[0m\u001b[1;33m)\u001b[0m\u001b[1;33m\u001b[0m\u001b[1;33m\u001b[0m\u001b[0m\n\u001b[0m\u001b[0;32m    836\u001b[0m         \u001b[1;32mreturn\u001b[0m \u001b[0my_\u001b[0m \u001b[1;33m*\u001b[0m \u001b[0mnp\u001b[0m\u001b[1;33m.\u001b[0m\u001b[0mexp\u001b[0m\u001b[1;33m(\u001b[0m\u001b[0my_\u001b[0m \u001b[1;33m*\u001b[0m \u001b[0mraw_predictions\u001b[0m\u001b[1;33m.\u001b[0m\u001b[0mravel\u001b[0m\u001b[1;33m(\u001b[0m\u001b[1;33m)\u001b[0m\u001b[1;33m)\u001b[0m\u001b[1;33m\u001b[0m\u001b[1;33m\u001b[0m\u001b[0m\n\u001b[0;32m    837\u001b[0m \u001b[1;33m\u001b[0m\u001b[0m\n",
      "\u001b[1;31mKeyboardInterrupt\u001b[0m: "
     ]
    }
   ],
   "source": [
    "# TODO：使用 GridSearchCV 对 GradientBoostingClassifier 进行调参\n",
    "from sklearn.model_selection import GridSearchCV\n",
    "\n",
    "# TODO: 设置 max_depth 的范围，建议范围设置小一点，数据量大，搜参比较耗时\n",
    "params = \n",
    "\n",
    "#TODO：设置estimator 为 GradientBoostingClassifier 分类器，除了 max_depth 以外的不需要搜索的参数可以直接用上面值\n",
    "estimator = \n",
    "# TODO: 设置 GridSearchCV, 建议 建议交叉验证`cv`设置小一点，数据量大，交叉验证很慢，scoring=\"roc_auc\"\n",
    "grid_cv = \n",
    "\n",
    "grid_cv.fit(train_x, train_y)"
   ]
  },
  {
   "cell_type": "markdown",
   "metadata": {},
   "source": [
    "问题5：调参结果得出最优参数是多少？\n",
    "- max_depth= \n",
    "- learning_rate = "
   ]
  },
  {
   "cell_type": "markdown",
   "metadata": {},
   "source": [
    "## 模型对比\n",
    "\n",
    "目前为止，我们已经对一个实际问题的复杂的数据进行了处理，并抽取了一两个特征，然后进行了模型训练。你可以按照这个流程做更多的特征工程的工作。由于数据量大，我们已经做好了特征工程，并提供了完整的脚本，你可以学习完整的特征工程流程，如果有内存较大的机器的话也可以跑一遍。同时我们也sample了部分数据，以方便接下来快速的进行多个流行的`梯度提升树`模型变种的对比学习。"
   ]
  },
  {
   "cell_type": "markdown",
   "metadata": {},
   "source": [
    "问题5：通俗的解释什么是 梯度提升决策树 （Gradient Boosting Decison Tree，GBDT）？并列举其优缺点。\n",
    "\n",
    "回答问题："
   ]
  },
  {
   "cell_type": "markdown",
   "metadata": {},
   "source": [
    "问题6：目前比较流行的 `GBDT`的变种有 [Xgboost](https://xgboost.readthedocs.io/en/latest/) 和 [LightGBM](https://lightgbm.readthedocs.io/en/latest/)，请比较这三个梯度提升模型，列举他们各自的特点? （你可以参考一些文档，并给出你的引用出处）\n",
    "\n",
    "回答问题："
   ]
  },
  {
   "cell_type": "markdown",
   "metadata": {},
   "source": [
    "我们已经预先对该数据做了充分的特征工程，然后 `sample` 出了部分数据。数据在路径 `./data/`下面，有训练集`train.csv`和测试集`test.csv`"
   ]
  },
  {
   "cell_type": "code",
   "execution_count": 47,
   "metadata": {},
   "outputs": [],
   "source": [
    "# 直接运行读取数据，并分别得到 X 和 Y 的数据\n",
    "\n",
    "# 处理训练集\n",
    "train_x = pd.read_csv(\"./data/train.csv\")\n",
    "train_y = train_x[\"飞机延误目标\"].values\n",
    "del(train_x[\"飞机延误目标\"])\n",
    "# 处理测试集\n",
    "test_x = pd.read_csv(\"./data/test.csv\")\n",
    "test_y = test_x[\"飞机延误目标\"].values\n",
    "del(test_x[\"飞机延误目标\"])"
   ]
  },
  {
   "cell_type": "markdown",
   "metadata": {},
   "source": [
    "### 对 gbdt 进行调参\n",
    "\n",
    "按照上面简单模型构建部分的流程，先定义 GradientBoostingClassifier，并设置里面固定参数；然后设置需要调优的参数，然后通过 网格搜索 `GridSearchCV` 进行搜索最优参数。由于数据量已经减少，这里你可以将参数设置的大一些，以提升模型的准确度，但要防止过拟合。"
   ]
  },
  {
   "cell_type": "code",
   "execution_count": 58,
   "metadata": {},
   "outputs": [
    {
     "name": "stdout",
     "output_type": "stream",
     "text": [
      "准确率：0.9955071666666666\n"
     ]
    }
   ],
   "source": [
    "from sklearn.model_selection import train_test_split\n",
    "from sklearn.ensemble import GradientBoostingClassifier\n",
    "from sklearn.model_selection import GridSearchCV\n",
    "from sklearn import metrics\n",
    "\n",
    "\n",
    "\n",
    "# TODO: 需要调的参数，比如 max_depth, n_estimators, learning_rate\n",
    "cv_params = \n",
    "\n",
    "\n",
    "#TODO：设置 GBDT 分类器 GradientBoostingClassifier\n",
    "model = \n",
    "# TODO: 设置 GridSearchCV\n",
    "grid_cv = \n",
    "# TODO: 模型训练\n",
    "grid_cv.fit(train_x, train_y)\n",
    "\n",
    "# TODO：在测试集上预测，并计算准确率\n",
    "\n",
    "# TODO：预测测试集的结果\n",
    "predict_y = \n",
    "# TODO：计算 准确率\n",
    "auc = \n",
    "# 打印准确率结果\n",
    "print(\"准确率：{}\".format(auc))\n",
    "\n",
    "# TODO：打印最优参数\n"
   ]
  },
  {
   "cell_type": "code",
   "execution_count": null,
   "metadata": {},
   "outputs": [],
   "source": []
  },
  {
   "cell_type": "markdown",
   "metadata": {},
   "source": [
    "### 对 Xgboost 进行调参\n",
    "关于xgboost 设置和调参与gbdt类似，参数也是类似的，比如 `n_estimators`表示树的个数；`max_depth`表示构建树的深度，越大越容易过拟合；`gamma`表示用于控制是否后剪枝的参数；`reg_lambda`是用来控制模型复杂度的L2正则化的参数，值越大，模型越不容易过拟合，等等。由于数据量已经减少，这里你可以将参数设置的大一些，以提升模型的准确度，但要防止过拟合。"
   ]
  },
  {
   "cell_type": "code",
   "execution_count": 59,
   "metadata": {},
   "outputs": [
    {
     "name": "stdout",
     "output_type": "stream",
     "text": [
      "准确率：0.9529746666666666\n"
     ]
    }
   ],
   "source": [
    "### 使用Xgboost 进行训练和测试\n",
    "import xgboost as xgb\n",
    "\n",
    "\n",
    "# TODO: 选择要调优的参数, 比如max_depth, n_estimator,learning_rate\n",
    "cv_params =\n",
    "model = \n",
    "\n",
    "grid_cv = \n",
    "grid_cv.fit(train_x, train_y)\n",
    "\n",
    "\n",
    "# TODO：在测试集上预测，并计算准确率\n",
    "\n",
    "# TODO：预测测试集的结果\n",
    "predict_y = \n",
    "# TODO：计算 准确率\n",
    "\n",
    "auc=\n",
    "# 打印准确率结果\n",
    "print(\"准确率：{}\".format(auc))\n",
    "\n",
    "# TODO：打印最优参数\n"
   ]
  },
  {
   "cell_type": "markdown",
   "metadata": {
    "collapsed": true
   },
   "source": [
    "问题7：在这个任务中，`GBDT`和`xgboost`的性能如何？哪一个更优？\n",
    "\n",
    "回答问题："
   ]
  },
  {
   "cell_type": "markdown",
   "metadata": {},
   "source": [
    "问题8：总结你对`GBDT`调参的经验与总结\n",
    "\n",
    "回答问题："
   ]
  }
 ],
 "metadata": {
  "kernelspec": {
   "display_name": "Python 3",
   "language": "python",
   "name": "python3"
  },
  "language_info": {
   "codemirror_mode": {
    "name": "ipython",
    "version": 3
   },
   "file_extension": ".py",
   "mimetype": "text/x-python",
   "name": "python",
   "nbconvert_exporter": "python",
   "pygments_lexer": "ipython3",
   "version": "3.7.3"
  }
 },
 "nbformat": 4,
 "nbformat_minor": 2
}
